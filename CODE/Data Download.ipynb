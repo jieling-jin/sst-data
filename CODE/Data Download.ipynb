{
 "cells": [
  {
   "cell_type": "code",
   "execution_count": null,
   "id": "4b9b9c13",
   "metadata": {},
   "outputs": [],
   "source": [
    "import os\n",
    "import requests\n",
    "from bs4 import BeautifulSoup\n",
    "from urllib.parse import urljoin\n",
    "\n",
    "for m in range(1,13):\n",
    "    if m < 10:\n",
    "        base_url = 'https://www.ncei.noaa.gov/data/sea-surface-temperature-optimum-interpolation/v2.1/access/avhrr/20000'+str(m)+'/'\n",
    "    else:\n",
    "        base_url = 'https://www.ncei.noaa.gov/data/sea-surface-temperature-optimum-interpolation/v2.1/access/avhrr/2000'+str(m)+'/'\n",
    "    output_folder = '2000'\n",
    "    if not os.path.exists(output_folder):\n",
    "        os.makedirs(output_folder)\n",
    "    # 获取网页内容\n",
    "    response = requests.get(base_url)\n",
    "    response.raise_for_status()  # 如果请求失败，抛出异常\n",
    "    soup = BeautifulSoup(response.text, 'html.parser')\n",
    "    links = soup.find_all('a', href=True)\n",
    "    data_files = [link['href'] for link in links if link['href'].endswith('.nc')]\n",
    "    # 下载所有数据文件\n",
    "    for file_url in data_files:\n",
    "    # 拼接成完整的URL\n",
    "        full_url = urljoin(base_url, file_url)\n",
    "    # 获取文件名\n",
    "        file_name = os.path.join(output_folder, file_url.split('/')[-1])\n",
    "        print(f'Downloading {file_name}...')\n",
    "        with requests.get(full_url, stream=True) as r:\n",
    "            r.raise_for_status()  # 如果下载失败，抛出异常\n",
    "            with open(file_name, 'wb') as f:\n",
    "                for chunk in r.iter_content(chunk_size=8192):\n",
    "                    f.write(chunk)\n",
    "    print('All files downloaded successfully!')"
   ]
  }
 ],
 "metadata": {
  "kernelspec": {
   "display_name": "Python 3 (ipykernel)",
   "language": "python",
   "name": "python3"
  },
  "language_info": {
   "codemirror_mode": {
    "name": "ipython",
    "version": 3
   },
   "file_extension": ".py",
   "mimetype": "text/x-python",
   "name": "python",
   "nbconvert_exporter": "python",
   "pygments_lexer": "ipython3",
   "version": "3.11.5"
  }
 },
 "nbformat": 4,
 "nbformat_minor": 5
}
